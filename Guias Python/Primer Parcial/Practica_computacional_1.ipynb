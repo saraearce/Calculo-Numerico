{
 "cells": [
  {
   "cell_type": "markdown",
   "metadata": {
    "id": "qtcJXhs0j3hv"
   },
   "source": [
    "**Elementos de Cálculo Numérico / Cálculo Numérico**\n",
    "\n",
    "Segundo Cuatrimestre 2024\n",
    "\n",
    "*Ejercicios computacionales*"
   ]
  },
  {
   "cell_type": "code",
   "execution_count": 1,
   "metadata": {},
   "outputs": [],
   "source": [
    "import numpy as np\n"
   ]
  },
  {
   "cell_type": "markdown",
   "metadata": {
    "id": "01OaFDexi6vL"
   },
   "source": [
    "### A)\n",
    "Realizar un programa que calcule el promedio de tres números dados.\n",
    "Basarse en la siguiente plantilla:"
   ]
  },
  {
   "cell_type": "code",
   "execution_count": 3,
   "metadata": {
    "id": "y_ZO6QmAi2ZL"
   },
   "outputs": [
    {
     "name": "stdout",
     "output_type": "stream",
     "text": [
      "El promedio es 3.6666666666666665\n"
     ]
    }
   ],
   "source": [
    "\n",
    "# Calculamos el promedio de x1, x2 y x3:\n",
    "x1 = 1\n",
    "x2 = 3\n",
    "x3 = 7\n",
    "p = (x1+x2+x3)/3\n",
    "print('El promedio es',p)\n"
   ]
  },
  {
   "cell_type": "markdown",
   "metadata": {
    "id": "u0hulmxGi5nw"
   },
   "source": [
    "Probar reemplazar los valores de x1, x2, x3 por otros."
   ]
  },
  {
   "cell_type": "code",
   "execution_count": 4,
   "metadata": {},
   "outputs": [
    {
     "name": "stdout",
     "output_type": "stream",
     "text": [
      "El promedio es 4.666666666666667\n"
     ]
    }
   ],
   "source": [
    "# Calculamos el promedio de x1, x2 y x3:\n",
    "x1 = 2\n",
    "x2 = 4\n",
    "x3 = 8\n",
    "p = (x1+x2+x3)/3\n",
    "print('El promedio es',p)"
   ]
  },
  {
   "cell_type": "markdown",
   "metadata": {
    "id": "jwGchGVOklba"
   },
   "source": [
    "#### B)\n",
    "Reformular el ejercicio anterior en forma de función. La función recibirá una lista x con tres valores y devolverá el promedio m de esos tres valores. Controlar que resulte en lo mismo que antes."
   ]
  },
  {
   "cell_type": "code",
   "execution_count": 5,
   "metadata": {
    "id": "Am2mRCY1jEBM"
   },
   "outputs": [
    {
     "name": "stdout",
     "output_type": "stream",
     "text": [
      "3.6666666666666665\n"
     ]
    }
   ],
   "source": [
    "\n",
    "def calcula_p(x):\n",
    "  x1 = x[0]\n",
    "  x2 = x[1]\n",
    "  x3 = x[2]\n",
    "  p = (x1+x2+x3)/3\n",
    "  return(p)\n",
    "nums = [1, 3, 7]\n",
    "print(calcula_p(nums))"
   ]
  },
  {
   "cell_type": "markdown",
   "metadata": {
    "id": "Bl4luMTWfz1l"
   },
   "source": [
    "#### C)\n",
    "\n",
    "Construir una función tal que, dados los coeficientes de un polinomio de grado 2, a, b c,\n",
    "calcule las raices de ese polinomio:"
   ]
  },
  {
   "cell_type": "code",
   "execution_count": 2,
   "metadata": {
    "id": "6myVFfHKgJXj"
   },
   "outputs": [
    {
     "name": "stdout",
     "output_type": "stream",
     "text": [
      "[1.0, -1.0]\n"
     ]
    }
   ],
   "source": [
    "def calcula_raices(a,b,c):\n",
    "  x1 = (-b+np.sqrt(b**2-4*a*c))/2*a\n",
    "  x2 = (-b-np.sqrt(b**2-4*a*c))/2*a\n",
    "  return([x1,x2])\n",
    "\n",
    "a= 1\n",
    "b = 0\n",
    "c = -1\n",
    "print(calcula_raices(a,b,c))"
   ]
  },
  {
   "cell_type": "markdown",
   "metadata": {
    "id": "OulHX0i9gWmP"
   },
   "source": [
    "#### D)\n",
    " Construir una función tal que, dado el vértice y un punto distinto por los que pasa una\n",
    "parábola, calcule los coeficientes del polinomio de grado 2 cuyo gráfico es esa parábola:"
   ]
  },
  {
   "cell_type": "code",
   "execution_count": 3,
   "metadata": {
    "id": "l-VtAeyFgYfm"
   },
   "outputs": [
    {
     "name": "stdout",
     "output_type": "stream",
     "text": [
      "[1.0, -0.0, -1.0]\n"
     ]
    }
   ],
   "source": [
    "def calcula_coeficientes(v,x):\n",
    "  v1 = v[0]\n",
    "  v2 = v[1]\n",
    "  x1 = x[0]\n",
    "  x2 = x[1]\n",
    "  a = (x2-v2)/((x1-v1)**2)\n",
    "  b = (-2)*a*v1\n",
    "  c = -a*(v1**2)+v2\n",
    "  return([a,b,c])\n",
    "v = [0,-1]\n",
    "x = [1,0]\n",
    "print(calcula_coeficientes(v,x))"
   ]
  },
  {
   "cell_type": "markdown",
   "metadata": {
    "id": "W4XSNiS9gj4v"
   },
   "source": [
    "#### E)\n",
    " Combinar los puntos C) y D) para armar una función que a partir del vértice y un punto\n",
    "distinto por los que pasa una parábola, calcule los puntos en los que se encuentran las\n",
    "raices del polinomio de grado 2 cuyo gráfico es esa parábola."
   ]
  },
  {
   "cell_type": "code",
   "execution_count": 4,
   "metadata": {
    "id": "grgq7igzgu4R"
   },
   "outputs": [
    {
     "name": "stdout",
     "output_type": "stream",
     "text": [
      "[1.0, -1.0]\n"
     ]
    }
   ],
   "source": [
    "def calcula_raices2(v,x):\n",
    "  coeficientes = calcula_coeficientes(v,x)\n",
    "  a = coeficientes[0]\n",
    "  b = coeficientes[1]\n",
    "  c = coeficientes[2]\n",
    "  raices = calcula_raices(a,b,c)\n",
    "  return(raices)\n",
    "v = [0,-1]\n",
    "x = [1,0]\n",
    "print(calcula_raices2(v,x))"
   ]
  }
 ],
 "metadata": {
  "colab": {
   "name": "Ejercicio 1.ipynb",
   "provenance": []
  },
  "kernelspec": {
   "display_name": "Python 3 (ipykernel)",
   "language": "python",
   "name": "python3"
  },
  "language_info": {
   "codemirror_mode": {
    "name": "ipython",
    "version": 3
   },
   "file_extension": ".py",
   "mimetype": "text/x-python",
   "name": "python",
   "nbconvert_exporter": "python",
   "pygments_lexer": "ipython3",
   "version": "3.11.3"
  }
 },
 "nbformat": 4,
 "nbformat_minor": 4
}
