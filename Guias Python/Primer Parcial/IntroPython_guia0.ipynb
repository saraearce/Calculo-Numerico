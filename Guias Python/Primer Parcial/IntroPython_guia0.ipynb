{
 "cells": [
  {
   "cell_type": "code",
   "execution_count": 144,
   "metadata": {},
   "outputs": [],
   "source": [
    "import numpy as np"
   ]
  },
  {
   "cell_type": "code",
   "execution_count": 145,
   "metadata": {},
   "outputs": [
    {
     "name": "stdout",
     "output_type": "stream",
     "text": [
      "5\n",
      "8\n",
      "-13\n",
      "48\n",
      "1296\n",
      "78\n",
      "0.005\n",
      "4.4\n",
      "4\n",
      "2\n",
      "4.0\n",
      "5.0\n",
      "(3+2j)\n",
      "(-1+0j)\n"
     ]
    }
   ],
   "source": [
    "#Ejercicio 1: Aritmética\n",
    "print(2*3-1)\n",
    "print(2**3)\n",
    "print(3-2**4)\n",
    "print(3*2**4)\n",
    "print((3*2)**4)\n",
    "print(3**4-3)\n",
    "print(5e-3)\n",
    "print(22/5)\n",
    "print(22//5) #devuelve la parte entera del cociente\n",
    "print(22%5) #devuelve el resto de la division\n",
    "print(8/4*2)\n",
    "print(2+3.0)\n",
    "print(2j+3)\n",
    "print((1j)**2)\n"
   ]
  },
  {
   "cell_type": "code",
   "execution_count": 146,
   "metadata": {},
   "outputs": [
    {
     "data": {
      "text/plain": [
       "float"
      ]
     },
     "execution_count": 146,
     "metadata": {},
     "output_type": "execute_result"
    }
   ],
   "source": [
    "#Ejercicio 2\n",
    "type(22/5)\n",
    "type(22//5)\n",
    "type(8/4*2)\n",
    "type(2+3.0)\n",
    "#Te tira el tipo de dato de los resultados de esas operaciones"
   ]
  },
  {
   "cell_type": "code",
   "execution_count": 147,
   "metadata": {},
   "outputs": [
    {
     "name": "stdout",
     "output_type": "stream",
     "text": [
      "2\n",
      "16\n",
      "2\n",
      "6\n",
      "6\n",
      "1\n",
      "6\n"
     ]
    },
    {
     "ename": "NameError",
     "evalue": "name 'x' is not defined",
     "output_type": "error",
     "traceback": [
      "\u001b[1;31m---------------------------------------------------------------------------\u001b[0m",
      "\u001b[1;31mNameError\u001b[0m                                 Traceback (most recent call last)",
      "Cell \u001b[1;32mIn[147], line 14\u001b[0m\n\u001b[0;32m     12\u001b[0m \u001b[38;5;28mprint\u001b[39m(x)\n\u001b[0;32m     13\u001b[0m \u001b[38;5;28;01mdel\u001b[39;00m(x)\n\u001b[1;32m---> 14\u001b[0m \u001b[43mx\u001b[49m\n\u001b[0;32m     15\u001b[0m \u001b[38;5;66;03m#El del te elimina la variable\u001b[39;00m\n",
      "\u001b[1;31mNameError\u001b[0m: name 'x' is not defined"
     ]
    }
   ],
   "source": [
    "#Ejercicio 3: Declaración de variables\n",
    "x=2\n",
    "print(x)\n",
    "print(x**4)\n",
    "print(x)\n",
    "x=3*x\n",
    "print(x)\n",
    "y=x\n",
    "print(y)\n",
    "y=1\n",
    "print(y)\n",
    "print(x)\n",
    "del(x)\n",
    "x\n",
    "#El del te elimina la variable"
   ]
  },
  {
   "cell_type": "code",
   "execution_count": null,
   "metadata": {},
   "outputs": [
    {
     "data": {
      "text/plain": [
       "True"
      ]
     },
     "execution_count": 23,
     "metadata": {},
     "output_type": "execute_result"
    }
   ],
   "source": [
    "#Ejercicio 4: Operadores lógicos\n",
    "2==3\n",
    "type(2==3)\n",
    "2!=3\n",
    "type(2!=3)\n",
    "2<3\n",
    "type(2<3)\n",
    "not 2<3\n",
    "type(not 2<3)\n",
    "2!=3 and 1<4\n",
    "#Etc,etc: son todos datos de tipo bool o booleanos, es decir que expresan un valor de verdad (true o false)"
   ]
  },
  {
   "cell_type": "code",
   "execution_count": null,
   "metadata": {},
   "outputs": [
    {
     "data": {
      "text/plain": [
       "-1.0"
      ]
     },
     "execution_count": 36,
     "metadata": {},
     "output_type": "execute_result"
    }
   ],
   "source": [
    "#Ejercicio 5: Constantes y funciones básicas\n",
    "np.pi\n",
    "np.e\n",
    "np.inf\n",
    "np.exp(2)\n",
    "np.log(10)\n",
    "#el log siempre es ln\n",
    "np.log(np.e)\n",
    "np.sin(180)\n",
    "np.sin(np.pi)\n",
    "np.cos(np.pi)"
   ]
  },
  {
   "cell_type": "code",
   "execution_count": null,
   "metadata": {},
   "outputs": [
    {
     "data": {
      "text/plain": [
       "array([  3, 100,   7,  11,  13,   3, 100,   7,  11,  13,   3, 100,   7,\n",
       "        11,  13,   3, 100,   7,  11,  13,   3, 100,   7,  11,  13])"
      ]
     },
     "execution_count": 56,
     "metadata": {},
     "output_type": "execute_result"
    }
   ],
   "source": [
    "#Ejercicio 6: Creación de vectores\n",
    "v=np.array([3,4,7,11,13])\n",
    "v\n",
    "v[1]\n",
    "#Los corchetes señalan el lugar del vector que quiero arrancando desde el cero y el lugar -1 es el ultimo\n",
    "v[1:4]\n",
    "#Desde-hasta excluyendo el ultimo lugar que indico\n",
    "v[1]=100\n",
    "v\n",
    "np.arange(9) #vector desde el cero hasta el nueve excluido\n",
    "np.arange(2,9) #lo mismo pero arranco en el dos\n",
    "np.arange(2,9,3) #lo mismo moviendome de a 3 numeross\n",
    "np.linspace(0,1,3) #te divide el intervalo (0,1) en tres partes iguales\n",
    "np.repeat(0,5) #te repite 5 veces el cero\n",
    "np.repeat(v,5) #lo mismo pero con cada coordenada del vector\n",
    "np.tile(v,5) #te concatena 5 veces el vector"
   ]
  },
  {
   "cell_type": "code",
   "execution_count": null,
   "metadata": {},
   "outputs": [
    {
     "data": {
      "text/plain": [
       "array([[10,  4,  6,  4,  4,  4],\n",
       "       [ 7, 11, 13,  4,  4,  4]])"
      ]
     },
     "execution_count": 68,
     "metadata": {},
     "output_type": "execute_result"
    }
   ],
   "source": [
    "#Ejercicio 7: Creación de matrices\n",
    "M=np.array([[3,4,6],[7,11,13]]) #crea la matriz, cada vector es una fila\n",
    "M\n",
    "M[1,1] #te indexa la matriz con el lugar a11 el [0,0]\n",
    "M[1,:] #te da la fila 1, si pongo al reves te da la columna 1\n",
    "M[0,0]=10\n",
    "M\n",
    "np.tile(M,(4,2)) #pone cada fila doble, como concatenadas y a su vez concatena la matriz completa 4 veces\n",
    "np.eye(4) #la canonica :)\n",
    "A=np.tile(4,(2,3)) #matriz de 2x3 solo con 4\n",
    "np.concatenate((M,A),axis=0) #concatena las matrices una arriba de otra, si pongo axis=1 es una al lado de la otra\n",
    "np.concatenate((M,A),axis=1) #o sea, combina la fila 0 de M con la de A como un mismo vector y lo mismo la fila 1"
   ]
  },
  {
   "cell_type": "code",
   "execution_count": null,
   "metadata": {},
   "outputs": [
    {
     "data": {
      "text/plain": [
       "array([[3, 4],\n",
       "       [6, 8]])"
      ]
     },
     "execution_count": 86,
     "metadata": {},
     "output_type": "execute_result"
    }
   ],
   "source": [
    "#Ejercicio 8: Operación entre vectores y matrices\n",
    "M=np.array([[1,2],[3,4]])\n",
    "N=np.array([[5,6],[7,8]])\n",
    "P=np.array([[1,2,3],[1,2,3]])\n",
    "v=np.array([1,2])\n",
    "w=np.array([3,4])\n",
    "#Comandos\n",
    "M+N\n",
    "M+2 #mas dos en cada lugar\n",
    "M*2 #por dos en cada lugar\n",
    "M**2 #al cuadrado en cada lugar\n",
    "np.linalg.matrix_power(M,2) #potencias de la matriz M\n",
    "M*N #multiplica lugar a lugar, o sea: m11xn11 y asi pero nada mas\n",
    "M@N #producto matricial\n",
    "M*v #En cada fila hace como el de M*N\n",
    "M@v #el de toda la vida\n",
    "v*w #lugar a lugar\n",
    "v@w #el de toda la vida\n",
    "P.T #traspuesta\n",
    "v@(w.T)\n",
    "np.outer(v,w) #matriz formada por v[0]*w y v[1]*w"
   ]
  },
  {
   "cell_type": "code",
   "execution_count": null,
   "metadata": {},
   "outputs": [
    {
     "data": {
      "text/plain": [
       "array([[1, 2],\n",
       "       [3, 0]])"
      ]
     },
     "execution_count": 91,
     "metadata": {},
     "output_type": "execute_result"
    }
   ],
   "source": [
    "#Ejercicio 9 \n",
    "M=np.array([[1,2],[3,4]])\n",
    "N=M\n",
    "N[1,1]=0\n",
    "N\n",
    "M\n",
    "#M no debería quedarse igual? Porque yo solo cambié la N"
   ]
  },
  {
   "cell_type": "code",
   "execution_count": null,
   "metadata": {},
   "outputs": [
    {
     "data": {
      "text/plain": [
       "array([[1, 2],\n",
       "       [3, 4]])"
      ]
     },
     "execution_count": 92,
     "metadata": {},
     "output_type": "execute_result"
    }
   ],
   "source": [
    "#Ejercicio 10 \n",
    "M=np.array([[1,2],[3,4]])\n",
    "N=np.copy(M)\n",
    "N[1,1]=0\n",
    "N\n",
    "M\n",
    "#Respecto a la duda del ejercicio anterior: NO, ya que son como la misma variable, en cambio aca N es una copia.\n",
    "#Esto tenia un nombre en ip que no me lo acuerdo pero basicamente en el 9 reescribo la misma celda de memoria, en el 10 \"creo una nueva celda\""
   ]
  },
  {
   "cell_type": "code",
   "execution_count": null,
   "metadata": {},
   "outputs": [
    {
     "data": {
      "text/plain": [
       "array([5, 7, 9])"
      ]
     },
     "execution_count": 121,
     "metadata": {},
     "output_type": "execute_result"
    }
   ],
   "source": [
    "#Ejercicio 11\n",
    "def f1(x):\n",
    "    print(x**2+5*x)\n",
    "def f2(x):\n",
    "    print(np.cos(x)+np.sin(x))\n",
    "def f3(v):\n",
    "    print(v[0]+v[-1])\n",
    "def f4(v,w):\n",
    "    print(np.cross(v,w))\n",
    "def f5(k):\n",
    "    if k%2==0:\n",
    "        return True\n",
    "    else:\n",
    "        return False\n",
    "def f6(k):\n",
    "    if k%2==0:\n",
    "        return 1\n",
    "    else:\n",
    "        return 0\n",
    "def f7(x):\n",
    "    if x>=0:\n",
    "        return x\n",
    "    else:\n",
    "        return -x\n",
    "def f8(M):\n",
    "    if len(np.shape(M))==1:\n",
    "        return 0\n",
    "    else:\n",
    "        return 1\n",
    "def f9(a,b):\n",
    "    if a>b:\n",
    "        return 1\n",
    "    if a<b:\n",
    "        return -1\n",
    "    else:\n",
    "        return 0\n",
    "def f10(v,w):\n",
    "    if len(v)==len(w):\n",
    "        return v+w\n",
    "    else:\n",
    "        return np.repeat(0,min(len(v),len(w)))\n",
    "#v1=np.array([1,2,3])\n",
    "#w1=np.array([4,5,6])  No olvidar que los tengo que definir como array para que me los sume bien\n",
    "#f10(v1,w1)"
   ]
  },
  {
   "cell_type": "markdown",
   "metadata": {},
   "source": [
    "Ejercicio 12: estudiar los siguientes programas y decidir qué hacen\n",
    "\n",
    "a) def f(n):\n",
    "       y=np.repeat(0,n)\n",
    "       for i in np.arrange(n):\n",
    "           y[i]=(i+1)**2\n",
    "       return y\n",
    "\n",
    "Dado un vector y de tamaño n con ceros en todas sus coordenadas, voy recorriendo cada lugar de ese vector con el for.\n",
    "En cada lugas i ahora voy a poner el numero de ese lugar más uno y elevo todo al cuadrado. Quedaría una cosa así [1,4,9,...,n**2]\n",
    "\n",
    "b) def f(g,v):\n",
    "       n=len(v)\n",
    "       y=np.repeat(0,n):\n",
    "       for i in np.arrange(n):\n",
    "           y[i]=g(v[i])\n",
    "       return y\n",
    "\n",
    "Dada una función g y un vector v, definimos n como la longitud de v y a y como en el item a). Nuevamente recorremos toda la longitud de y (que es la misma que la del vector v) utilizando el for pero ahora en cada coordenada vamos a aplicarle g a la coordenada analoga del vector v.\n",
    "\n",
    "c) def f(n):\n",
    "       y=1\n",
    "       for i in np.arrange(n):\n",
    "           y=y*(i+1)\n",
    "       return y\n",
    "\n",
    "Dado un numero natural n, definimos y=1 y para cada numero desde el 0 hasta el n-1 vamos a repetir la operacion multiplicar y por ese numero mas uno.\n",
    "\n",
    "d) def f(v):\n",
    "       n=len(v)\n",
    "       y=0\n",
    "       for i in np.arrange(n):\n",
    "           if v[i]==0:\n",
    "               y=y+1\n",
    "       return y\n",
    "\n",
    "Dado un vector v de longitud n definimos y=0. Para cada numero del 0 al n-1: si el vector en esa posicion es un cero, le sumamos un 1 a y. Así recorremos todo el vector sumando siempre que haya un cero.\n",
    "\n",
    "e) def f(n,k):\n",
    "       i=0\n",
    "       while (i+n<=k):\n",
    "           i=i+n\n",
    "       return i\n",
    "\n",
    "Dados dos numeros naturales n y k, definimos i=0. Nos fijamos si i+n es menor o igual a k; si lo es redefinimos i=i+n y repetimos el proceso. Cuando ya no se cumpla la condición, la funcion nos devuelve el ultimo valor que le dimos a i.\n",
    "\n",
    "f) def f(v,k):\n",
    "       i=0\n",
    "       while (v[i]<=k):\n",
    "           i=i+1\n",
    "       return v[i]\n",
    "\n",
    "Dado un vector v y un número natural k, definimos i=0. Nos fijamos si el vector en el lugar i es menor o igual a k; si lo es redefinimos i=i+1 y repetimos el proceso. Cuando ya no se cumpla la condición, la función devuelve la posición del vector que no la cumple. (La función nos el primer lugar del vector que es mayor estricto que k)"
   ]
  },
  {
   "cell_type": "code",
   "execution_count": 183,
   "metadata": {},
   "outputs": [
    {
     "data": {
      "text/plain": [
       "6"
      ]
     },
     "execution_count": 183,
     "metadata": {},
     "output_type": "execute_result"
    }
   ],
   "source": [
    "#Ejercicio 13\n",
    "#a)\n",
    "def traza (M):\n",
    "    tr=0\n",
    "    n=(len(M))\n",
    "    for i in np.arange(n):\n",
    "        tr=tr+M[i,i]\n",
    "    return tr\n",
    "\n",
    "M0=np.array([[1,2,3],[1,2,3],[1,2,3]])\n",
    "traza(M0)\n",
    "\n",
    "#b)\n",
    "def vsuma(n):\n",
    "    v=np.repeat(0,n)\n",
    "    for i in np.arange(n):\n",
    "        if i==0:\n",
    "            v[i]=1\n",
    "        else:\n",
    "            v[i]= i+1+v[i-1]\n",
    "    return v\n",
    "\n",
    "vsuma(5)\n",
    "\n",
    "#c)\n",
    "def vinvertir(v):\n",
    "    n=len(v)\n",
    "    for i in range(0,n//2):\n",
    "        x=v[i]\n",
    "        v[i]=v[n-1-i]\n",
    "        v[n-1-i]=x\n",
    "    return v\n",
    "\n",
    "v0=[1,2,3,4,5]\n",
    "vinvertir(v0)\n",
    "\n",
    "#d)\n",
    "def fibo(n):\n",
    "    if n<=1:\n",
    "        return n\n",
    "    else:\n",
    "        return fibo(n-1) + fibo(n-2)\n",
    "\n",
    "fibo(12)\n",
    "\n",
    "#e)\n",
    "def primo(n):\n",
    "    i=2\n",
    "    while i in range(2,n):\n",
    "        if (n%i)==0:\n",
    "            return False\n",
    "        else:\n",
    "            i=i+1\n",
    "    return True\n",
    "\n",
    "primo(59)\n",
    "\n",
    "#f)\n",
    "def primerMenor(v,k):\n",
    "    i=0\n",
    "    while i in range(0,len(v)-1):\n",
    "        if v[i]>=k:\n",
    "            i=i+1\n",
    "        else:\n",
    "            return v[i]\n",
    "\n",
    "v0=np.array([9,7,8,7,8,9,5,6,5,4,3])\n",
    "primerMenor(v0,6)\n",
    "\n",
    "#g)\n",
    "def elemMaxVector(v):\n",
    "    res=v[0]\n",
    "    for i in range(len(v)):\n",
    "        if v[i]>=res:\n",
    "            res=v[i]\n",
    "    return res\n",
    "\n",
    "v0=np.array([2,1,5,3,4,9,0,6,8])\n",
    "elemMaxVector(v0)\n",
    "\n",
    "#h)\n",
    "def elemMaxMatrix(M):\n",
    "    f=(np.shape(M))[0]\n",
    "    res=elemMaxVector(M[0, :])\n",
    "    for i in range(f):\n",
    "        maxf=elemMaxVector(M[i,:])\n",
    "        if maxf>res:\n",
    "            res=maxf\n",
    "    return res\n",
    "\n",
    "M0=np.array([[1,2],[7,3],[3,4]])\n",
    "elemMaxMatrix(M0)\n",
    "#np.shape([[1,2],[2,3],[3,4]]) devuelve (3,2) por 3 filas y dos columnas\n",
    "\n",
    "#i)\n",
    "def dondeMax(v):\n",
    "    for i in range(len(v)):\n",
    "        if v[i]==elemMaxVector(v):\n",
    "            return i\n",
    "\n",
    "v0=np.array([2,5,4,13,6,8,1])\n",
    "dondeMax(v0)"
   ]
  }
 ],
 "metadata": {
  "kernelspec": {
   "display_name": "Python 3",
   "language": "python",
   "name": "python3"
  },
  "language_info": {
   "codemirror_mode": {
    "name": "ipython",
    "version": 3
   },
   "file_extension": ".py",
   "mimetype": "text/x-python",
   "name": "python",
   "nbconvert_exporter": "python",
   "pygments_lexer": "ipython3",
   "version": "3.11.3"
  }
 },
 "nbformat": 4,
 "nbformat_minor": 2
}
